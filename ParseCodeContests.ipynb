{
 "cells": [
  {
   "cell_type": "code",
   "execution_count": null,
   "id": "6367cba5",
   "metadata": {},
   "outputs": [],
   "source": [
    "from transformers import RobertaTokenizer, T5ForConditionalGeneration\n",
    "import pandas as pd\n",
    "import os\n",
    "\n",
    "tokenizer = RobertaTokenizer.from_pretrained('Salesforce/codet5-base')\n",
    "model = T5ForConditionalGeneration.from_pretrained('Salesforce/codet5-base')\n",
    "\n",
    "for path, subdirs, files in os.walk(\"/Users/brendankondracki/Documents/CodeContests/code-contests-csv/\"):\n",
    "    for filename in files:\n",
    "        print(filename)\n",
    "        if \".csv\" in filename and \"clean_\" not in filename:\n",
    "            df = pd.read_csv(os.path.join(path, filename))\n",
    "            valid_data = []\n",
    "            long_questions = set()\n",
    "            short_questions = set()\n",
    "            for index, row in df.iterrows():\n",
    "                if row[\"Solution Language\"] not in (\"PYTHON\", \"PYTHON3\", \"JAVA\", \"CPP\"):\n",
    "                    valid_data.append(0)\n",
    "                elif row[\"Description\"] in long_questions:\n",
    "                    valid_data.append(0)\n",
    "                else:\n",
    "                    if row[\"Description\"] not in short_questions:\n",
    "                        input_text = str(row[\"Description\"]) + \"</s>\"\n",
    "                        input_ids = tokenizer(input_text, return_tensors=\"pt\").input_ids\n",
    "                        if len(input_ids[0]) > 507:\n",
    "                            long_questions.add(row[\"Description\"])\n",
    "                            valid_data.append(0)\n",
    "                            continue\n",
    "                        else:\n",
    "                            short_questions.add(row[\"Description\"])\n",
    "                            \n",
    "                    if pd.isnull(row[\"Incorrect Solution\"]):\n",
    "                        input_text = str(row[\"Description\"]) + \"</s>\" + str(row[\"Correct Solution\"])\n",
    "                        input_ids = tokenizer(input_text, return_tensors=\"pt\").input_ids\n",
    "                        if len(input_ids[0]) > 507:\n",
    "                            valid_data.append(0)\n",
    "                        else:\n",
    "                            valid_data.append(1)\n",
    "                    else:\n",
    "                        input_text = row[\"Description\"] + \"</s>\" + row[\"Incorrect Solution\"]\n",
    "                        input_ids = tokenizer(input_text, return_tensors=\"pt\").input_ids\n",
    "                        if len(input_ids[0]) > 507:\n",
    "                            valid_data.append(0)\n",
    "                        else:\n",
    "                            valid_data.append(1)\n",
    "\n",
    "            df[\"valid_data\"] = valid_data\n",
    "            df = df[df[\"valid_data\"] == 1]\n",
    "            df.pop(\"valid_data\")\n",
    "            df.to_csv(os.path.join(path, \"clean_\" + filename), index=False)"
   ]
  },
  {
   "cell_type": "code",
   "execution_count": null,
   "id": "1daf1341",
   "metadata": {},
   "outputs": [],
   "source": []
  }
 ],
 "metadata": {
  "kernelspec": {
   "display_name": "Python 3 (ipykernel)",
   "language": "python",
   "name": "python3"
  },
  "language_info": {
   "codemirror_mode": {
    "name": "ipython",
    "version": 3
   },
   "file_extension": ".py",
   "mimetype": "text/x-python",
   "name": "python",
   "nbconvert_exporter": "python",
   "pygments_lexer": "ipython3",
   "version": "3.9.7"
  }
 },
 "nbformat": 4,
 "nbformat_minor": 5
}
